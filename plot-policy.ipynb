{
 "cells": [
  {
   "cell_type": "code",
   "execution_count": null,
   "metadata": {},
   "outputs": [],
   "source": [
    "from copy import deepcopy\n",
    "import pandas as pd\n",
    "import matplotlib.pyplot as plt\n",
    "import matplotlib\n",
    "import seaborn as sns\n",
    "import matplotlib.ticker as mtick\n",
    "from matplotlib.backends.backend_pdf import PdfPages\n",
    "#matplotlib.use('Agg')\n",
    "matplotlib.rc('font', family='DejaVu Sans', stretch=\"condensed\")"
   ]
  },
  {
   "attachments": {},
   "cell_type": "markdown",
   "metadata": {},
   "source": [
    "## Edge Analysis"
   ]
  },
  {
   "cell_type": "code",
   "execution_count": null,
   "metadata": {},
   "outputs": [],
   "source": [
    "#matplotlib.use('Agg')\n",
    "matplotlib.rc('font', family='DejaVu Sans', stretch=\"condensed\")"
   ]
  },
  {
   "cell_type": "code",
   "execution_count": null,
   "metadata": {},
   "outputs": [],
   "source": [
    "df = pd.read_csv(\"edge-analysis/results/poligraph-stats.py\")"
   ]
  },
  {
   "cell_type": "code",
   "execution_count": null,
   "metadata": {},
   "outputs": [],
   "source": [
    "pdf_backend = PdfPages('result-policy.pdf')"
   ]
  },
  {
   "cell_type": "code",
   "execution_count": null,
   "metadata": {},
   "outputs": [],
   "source": [
    "top_entities = [\n",
    "    \"we\",\n",
    "    \"UNSPECIFIC_ACTOR\",\n",
    "    \"advertiser\",\n",
    "    \"service provider\",\n",
    "    \"analytic provider\",\n",
    "    \"Google\",\n",
    "    \"business partner\",\n",
    "    \"social media\",\n",
    "]\n",
    "\n",
    "top_datatypes = [\n",
    "    \"UNSPECIFIC_DATA\",\n",
    "    \"personal information\",\n",
    "    \"cookie / pixel tag\",\n",
    "    \"email address\",\n",
    "    \"non-personal information\",\n",
    "    \"geolocation\",\n",
    "    \"personal identifier\",\n",
    "    \"person name\",\n",
    "    \"ip address\",\n",
    "    \"device identifier\",\n",
    "]\n",
    "\n",
    "fontsize = 'medium'\n",
    "\n",
    "tmp_df = df[df.u.isin(top_entities) & df.v.isin(top_datatypes) & (df.rel == \"COLLECT\")]\n",
    "pv_table = pd.pivot_table(tmp_df, values=\"count\", index=\"u\", columns=\"v\")\n",
    "pv_table = pv_table.loc[top_entities, top_datatypes]\n",
    "pv_table_purpose = pd.pivot_table(tmp_df, values=\"purpose_count\", index=\"u\", columns=\"v\")\n",
    "pv_table_purpose = pv_table_purpose.loc[top_entities, top_datatypes]\n",
    "\n",
    "fig = plt.figure(figsize=(8, 5.5))\n",
    "\n",
    "labels = pv_table.fillna(0).applymap(lambda x: (\"{:,}\".format(int(x))))\n",
    "labels = labels + \"\\n\" + pv_table_purpose.fillna(0).applymap(lambda x: (\"({:,})\".format(int(x))))\n",
    "\n",
    "ax = sns.heatmap(pv_table, cmap='YlOrRd', annot=labels, square=True, vmin=0, vmax=3000,\n",
    "    annot_kws={'size': \"medium\"},\n",
    "    cbar_kws={'shrink': 1.0, 'aspect': 50, 'pad': 0.02}, fmt=\"\")\n",
    "\n",
    "colorbar = ax.collections[0].colorbar\n",
    "colorbar.ax.tick_params(labelsize=fontsize)\n",
    "colorbar.ax.set_ylabel('# of Policies', size=fontsize)\n",
    "ax.set_xticklabels(ax.get_xticklabels(), rotation=40, ha=\"right\", size=fontsize)\n",
    "\n",
    "x_ticks = []\n",
    "for tick in ax.xaxis.get_major_ticks():\n",
    "    if tick.label1.get_text() == \"UNSPECIFIC_DATA\":\n",
    "        x_ticks.append('(unspecified data)')\n",
    "    else:\n",
    "        x_ticks.append(tick.label1.get_text())\n",
    "ax.set_xticklabels(x_ticks)\n",
    "\n",
    "y_ticks = []\n",
    "for tick in ax.yaxis.get_major_ticks():\n",
    "    if tick.label1.get_text() == \"UNSPECIFIC_ACTOR\":\n",
    "        y_ticks.append('(unspecified third party)')\n",
    "    else:\n",
    "        y_ticks.append(tick.label1.get_text())\n",
    "ax.set_yticklabels(y_ticks)\n",
    "\n",
    "ax.set_xlabel(\"Data Type\")\n",
    "ax.set_ylabel(\"Entity\")\n",
    "fig.set_tight_layout(True)\n",
    "#fig.savefig(\"figs/collect-edge-heatmap.pdf\")\n",
    "pdf_backend.savefig()"
   ]
  },
  {
   "cell_type": "code",
   "execution_count": null,
   "metadata": {},
   "outputs": [],
   "source": [
    "# yq '.links[] | select( .key == \"SUBSUM\" ) | .source'\n",
    "top_upper = [\n",
    "    \"personal information\",\n",
    "    \"contact information\",\n",
    "    \"personal identifier\",\n",
    "    \"identifier\",\n",
    "    \"device identifier\",\n",
    "    \"cookie / pixel tag\",\n",
    "    \"geolocation\",\n",
    "    \"non-personal information\",\n",
    "]\n",
    "\n",
    "# yq '.links[] | select( .key == \"SUBSUM\" ) | .target'\n",
    "top_lower = [\n",
    "    \"email address\",\n",
    "    \"person name\",\n",
    "    \"postal address\",\n",
    "    \"phone number\",\n",
    "    \"ip address\",\n",
    "    \"geolocation\",\n",
    "    \"date of birth\",\n",
    "    \"precise geolocation\",\n",
    "    \"advertising id\",\n",
    "    \"anonymous identifier\",\n",
    "]\n",
    "\n",
    "fontsize = 'medium'\n",
    "\n",
    "tmp_df = df[df.u.isin(top_upper) & df.v.isin(top_lower) & (df.rel == \"SUBSUM\")]\n",
    "pv_table = pd.pivot_table(tmp_df, values=\"count\", index=\"u\", columns=\"v\")\n",
    "pv_table = pv_table.loc[top_upper, top_lower]\n",
    "fig = plt.figure(figsize=(8, 5.5))\n",
    "labels = pv_table.fillna(0).applymap(lambda x: (\"{:,}\".format(int(x))))\n",
    "ax = sns.heatmap(pv_table, cmap='YlOrRd', annot=labels, square=True, vmin=0, vmax=500,\n",
    "    annot_kws={'size': \"medium\"},\n",
    "    cbar_kws={'shrink': 1.0, 'aspect': 50, 'pad': 0.02}, fmt=\"\")\n",
    "\n",
    "colorbar = ax.collections[0].colorbar\n",
    "colorbar.ax.tick_params(labelsize=fontsize)\n",
    "colorbar.ax.set_ylabel('# of Policies', size=fontsize)\n",
    "ax.set_xticklabels(ax.get_xticklabels(), rotation=40, ha=\"right\", size=fontsize)\n",
    "\n",
    "ax.set_xlabel(\"Hyponym\")\n",
    "ax.set_ylabel(\"Hypernym\")\n",
    "fig.set_tight_layout(True)\n",
    "#fig.savefig(\"figs/subsum-edge-heatmap.pdf\")\n",
    "pdf_backend.savefig()"
   ]
  },
  {
   "cell_type": "markdown",
   "metadata": {},
   "source": [
    "## Inferences"
   ]
  },
  {
   "cell_type": "code",
   "execution_count": null,
   "metadata": {},
   "outputs": [],
   "source": [
    "entity_order = [\"advertiser\", \"analytic provider\", \"social media\", \"content provider\", \"auth provider\", \"email service provider\"]\n",
    "datatype_order = [\"government identifier\", \"contact information\", \"software identifier\", \"hardware identifier\", \"protected classification\",  \"biometric information\", \"geolocation\",  \"internet activity\"]\n",
    "\n",
    "entity_stats = pd.read_csv(\"summarization-analysis/results/entity_stats.csv\", index_col=0)\n",
    "#entity_stats.rename(columns={'UNSPECIFIC_ACTOR': '(unspecified third party)'}, index={'UNSPECIFIC_DATA': '(unspecified data)'}, inplace=True)\n",
    "total_collection = entity_stats[\"total\"]"
   ]
  },
  {
   "cell_type": "code",
   "execution_count": null,
   "metadata": {},
   "outputs": [],
   "source": [
    "fig = plt.figure(figsize=(7, 3.5))\n",
    "#ax = total_collection.loc[datatype_order[::-1]].drop(\"(unspecified data)\").plot.barh()\n",
    "ax = total_collection.loc[datatype_order[::-1]].plot.barh()\n",
    "ax.bar_label(ax.containers[0], padding = 4)\n",
    "\n",
    "ax.set_xlim(0, 3650)\n",
    "ax.set_axisbelow(True)\n",
    "ax.grid()\n",
    "ax.set_xlabel(\"# of Policies\")\n",
    "ax.set_ylabel(\"Category of Data Types\")\n",
    "fig.set_tight_layout(True)\n",
    "#fig.savefig(\"figs/stat_collection.pdf\")\n",
    "pdf_backend.savefig()"
   ]
  },
  {
   "cell_type": "code",
   "execution_count": null,
   "metadata": {},
   "outputs": [],
   "source": [
    "#ext_entity_stats = pd.read_csv(\"stats/ext_entity_stats.csv\", index_col=0)\n",
    "#ext_entity_stats.rename(columns={'UNSPECIFIC_ACTOR': '(unspecific entity)'}, index={'UNSPECIFIC_DATA': '(unspecific data)'}, inplace=True)\n",
    "#ext_entity_stats = ext_entity_stats.loc[datatype_order, entity_order]\n",
    "\n",
    "tmp_df = entity_stats.loc[datatype_order, entity_order].T.copy()\n",
    "#tmp_df2 = ext_entity_stats.copy()\n",
    "\n",
    "labels = tmp_df.applymap(lambda x: (\"{:,}\".format(int(x))))\n",
    "#labels = labels + \"\\n\" + tmp_df2.applymap(lambda x: (\"({:,})\".format(int(x))))\n",
    "\n",
    "fig = plt.figure(figsize=(7, 6.5))\n",
    "ax = sns.heatmap(tmp_df, cmap='YlOrRd', annot=labels, square=True, annot_kws={'size': \"medium\"},\n",
    "                 vmin=0.0, vmax=600,\n",
    "                 cbar_kws={'shrink': 0.52, 'aspect': 50, 'pad': 0.02}, fmt=\"\")\n",
    "\n",
    "colorbar = ax.collections[0].colorbar\n",
    "colorbar.ax.tick_params(labelsize=fontsize)\n",
    "colorbar.ax.set_ylabel('# of Policies', size=fontsize)\n",
    "ax.set_xticklabels(ax.get_xticklabels(), rotation=40, ha=\"right\", size=fontsize)\n",
    "\n",
    "ax.set_ylabel(\"Category of Entities\")\n",
    "ax.set_xlabel(\"Category of Data Types\")\n",
    "fig.set_tight_layout(True)\n",
    "#fig.savefig(\"figs/data-sharing-heatmap.pdf\")\n",
    "pdf_backend.savefig()"
   ]
  },
  {
   "cell_type": "code",
   "execution_count": null,
   "metadata": {},
   "outputs": [],
   "source": [
    "purpose_stats = pd.read_csv(\"summarization-analysis/results/purpose_stats.csv\", index_col=0)\n",
    "#purpose_stats.rename(columns={'UNSPECIFIC_ACTOR': '(unspecified third party)'}, index={'UNSPECIFIC_DATA': '(unspecified data)'}, inplace=True)\n",
    "#ext_purpose_stats = pd.read_csv(\"stats/ext_purpose_stats.csv\", index_col=0)\n",
    "#ext_purpose_stats.rename(columns={'UNSPECIFIC_ACTOR': '(unspecific entity)'}, index={'UNSPECIFIC_DATA': '(unspecific data)'}, inplace=True)\n",
    "\n",
    "tmp_df = purpose_stats.loc[datatype_order, :].T\n",
    "#tmp_df2 = ext_purpose_stats.loc[datatype_order, :]\n",
    "\n",
    "labels = tmp_df.applymap(lambda x: (\"{:,}\".format(int(x))))\n",
    "#labels = labels + \"\\n\" + tmp_df2.applymap(lambda x: (\"({:,})\".format(int(x))))\n",
    "\n",
    "fig = plt.figure(figsize=(7, 7))\n",
    "ax = sns.heatmap(tmp_df, cmap='YlOrRd', annot=labels, square=True, annot_kws={'size': \"medium\"},\n",
    "                 vmin=0.0, vmax=1600.0,\n",
    "                 cbar_kws={'shrink': 0.4, 'aspect': 50, 'pad': 0.02}, fmt=\"\")\n",
    "\n",
    "colorbar = ax.collections[0].colorbar\n",
    "colorbar.ax.tick_params(labelsize=fontsize)\n",
    "colorbar.ax.set_ylabel('# of Policies', size=fontsize)\n",
    "ax.set_xticklabels(ax.get_xticklabels(), rotation=40, ha=\"right\", size=fontsize)\n",
    "\n",
    "ax.set_ylabel(\"Purpose\")\n",
    "ax.set_xlabel(\"Category of Data Types\")\n",
    "fig.set_tight_layout(True)\n",
    "\n",
    "#fig.savefig(\"figs/data-purpose-heatmap.pdf\")\n",
    "pdf_backend.savefig()"
   ]
  },
  {
   "cell_type": "code",
   "execution_count": null,
   "metadata": {},
   "outputs": [],
   "source": [
    "pdf_backend.close()"
   ]
  }
 ],
 "metadata": {
  "kernelspec": {
   "display_name": "Python 3.10.4 ('nlp20220817')",
   "language": "python",
   "name": "python3"
  },
  "language_info": {
   "codemirror_mode": {
    "name": "ipython",
    "version": 3
   },
   "file_extension": ".py",
   "mimetype": "text/x-python",
   "name": "python",
   "nbconvert_exporter": "python",
   "pygments_lexer": "ipython3",
   "version": "3.10.11"
  },
  "orig_nbformat": 4,
  "vscode": {
   "interpreter": {
    "hash": "050ef3adec71488f5b9d74d882718d70caf5f051f4a42ceeb8067f75a6fcbd48"
   }
  }
 },
 "nbformat": 4,
 "nbformat_minor": 2
}
